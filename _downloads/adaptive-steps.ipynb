{
  "cells": [
    {
      "metadata": {
        "collapsed": false
      },
      "outputs": [],
      "source": [
        "%matplotlib inline"
      ],
      "cell_type": "code",
      "execution_count": null
    },
    {
      "metadata": {},
      "source": [
        "\nUse scans with adaptive step sizes\n**********************************\n\nProblem\n=======\n\nConcentrate measurement in regions of high variability, taking larger strides\nthrough flat regions.\n\nApproach\n========\n\nThe *plans* in bluesky can be fully adaptive, determining one step at a time.\nA couple built-in plans provide this capability out of the box.\n\nExample Solution\n================\n\nThe :func:`bluesky.plans.adaptive_scan` aims to maintain a certain delta in y\nbetween successive steps through x. After each step, it accounts for the local\nderivative and adjusts it step size accordingly. If it misses by a large\nmargin, it takes a step backward (if allowed).\n\n\n"
      ],
      "cell_type": "markdown"
    },
    {
      "metadata": {
        "collapsed": false
      },
      "outputs": [],
      "source": [
        "import matplotlib.pyplot as plt\n\nfrom bluesky import RunEngine\nfrom bluesky.plans import adaptive_scan\nfrom bluesky.callbacks import LivePlot\nfrom bluesky.examples import motor, det\n\n# Do this if running the example interactively;\n# skip it when building the documentation.\nimport os\nif 'BUILDING_DOCS' not in os.environ:\n    from bluesky.utils import install_qt_kicker  # for notebooks, qt -> nb\n    install_qt_kicker()\n    plt.ion()\n    det.exposure_time = 0.5  # simulate slow exposures\n\nRE = RunEngine({})\n\nRE(adaptive_scan([det], 'det', motor,\n                 start=-15,\n                 stop=10,\n                 min_step=0.01,\n                 max_step=5,\n                 target_delta=.05,\n                 backstep=True),\n   LivePlot('det', 'motor', markersize=10, marker='o'))"
      ],
      "cell_type": "code",
      "execution_count": null
    },
    {
      "metadata": {},
      "source": [
        "Observe how the scan lengthens its stride through the flat regions, oversteps\nthrough the peak, moves back, samples it with smaller steps, and gradually\nadopts a larger stride as the peak flattens out again.\n\n"
      ],
      "cell_type": "markdown"
    }
  ],
  "metadata": {
    "language_info": {
      "file_extension": ".py",
      "nbconvert_exporter": "python",
      "version": "3.5.2",
      "mimetype": "text/x-python",
      "codemirror_mode": {
        "name": "ipython",
        "version": 3
      },
      "pygments_lexer": "ipython3",
      "name": "python"
    },
    "kernelspec": {
      "name": "python3",
      "language": "python",
      "display_name": "Python 3"
    }
  },
  "nbformat_minor": 0,
  "nbformat": 4
}
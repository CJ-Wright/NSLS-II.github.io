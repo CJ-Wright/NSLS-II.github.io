{
  "cells": [
    {
      "metadata": {
        "collapsed": false
      },
      "outputs": [],
      "source": [
        "%matplotlib inline"
      ],
      "cell_type": "code",
      "execution_count": null
    },
    {
      "metadata": {},
      "source": [
        "\nSimply 'count' a detector\n*************************\n\nProblem\n-------\n\nTake five sequential readings of a detector.\n\nApproach\n--------\n\nExecute :func:`bluesky.plans.count` with a simulated detector (which could be\nsubstituted by a real detector from ophyd) and display the reading using\n:func:`bluesky.callbacks.LiveTable`.\n\nExample Solution\n----------------\n\n"
      ],
      "cell_type": "markdown"
    },
    {
      "metadata": {
        "collapsed": false
      },
      "outputs": [],
      "source": [
        "import bluesky.plans as bp\nimport bluesky.callbacks as bc\nfrom bluesky import RunEngine\nfrom bluesky.examples import det  # a simulated detector\n\nRE = RunEngine({})\n\nRE(bp.count([det], num=5), bc.LiveTable([det]))"
      ],
      "cell_type": "code",
      "execution_count": null
    }
  ],
  "metadata": {
    "language_info": {
      "file_extension": ".py",
      "nbconvert_exporter": "python",
      "version": "3.5.2",
      "mimetype": "text/x-python",
      "codemirror_mode": {
        "name": "ipython",
        "version": 3
      },
      "pygments_lexer": "ipython3",
      "name": "python"
    },
    "kernelspec": {
      "name": "python3",
      "language": "python",
      "display_name": "Python 3"
    }
  },
  "nbformat_minor": 0,
  "nbformat": 4
}